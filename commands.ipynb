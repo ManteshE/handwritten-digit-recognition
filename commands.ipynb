{
  "nbformat": 4,
  "nbformat_minor": 0,
  "metadata": {
    "colab": {
      "provenance": [],
      "authorship_tag": "ABX9TyPDQA14oEyvuTCziVPnjIi9",
      "include_colab_link": true
    },
    "kernelspec": {
      "name": "python3",
      "display_name": "Python 3"
    },
    "language_info": {
      "name": "python"
    }
  },
  "cells": [
    {
      "cell_type": "markdown",
      "metadata": {
        "id": "view-in-github",
        "colab_type": "text"
      },
      "source": [
        "<a href=\"https://colab.research.google.com/github/ManteshE/handwritten-digit-recognition/blob/main/commands.ipynb\" target=\"_parent\"><img src=\"https://colab.research.google.com/assets/colab-badge.svg\" alt=\"Open In Colab\"/></a>"
      ]
    },
    {
      "cell_type": "markdown",
      "source": [
        "# Clone Repo"
      ],
      "metadata": {
        "id": "czRUQCGnhPUN"
      }
    },
    {
      "cell_type": "code",
      "source": [
        "!git clone https://github.com/ManteshE/handwritten-digit-recognition.git\n",
        "\n",
        "%cd handwritten-digit-recognition\n",
        "\n",
        "!git config --global user.name \"Mantesh Eksambe\"\n",
        "!git config --global user.email \"mantesh.eksambe.cse@gmail.com\""
      ],
      "metadata": {
        "id": "5-tu9FyqhUV9"
      },
      "execution_count": null,
      "outputs": []
    },
    {
      "cell_type": "code",
      "source": [
        "%cd /content/handwritten-digit-recognition\n",
        "\n",
        "!git pull"
      ],
      "metadata": {
        "id": "HgMJlRQdnoRA",
        "outputId": "cc66999a-4e6e-49da-93a5-9c3d32d93046",
        "colab": {
          "base_uri": "https://localhost:8080/"
        }
      },
      "execution_count": 22,
      "outputs": [
        {
          "output_type": "stream",
          "name": "stdout",
          "text": [
            "/content/handwritten-digit-recognition\n",
            "remote: Enumerating objects: 8, done.\u001b[K\n",
            "remote: Counting objects: 100% (8/8), done.\u001b[K\n",
            "remote: Compressing objects: 100% (5/5), done.\u001b[K\n",
            "remote: Total 6 (delta 3), reused 3 (delta 1), pack-reused 0 (from 0)\u001b[K\n",
            "Unpacking objects: 100% (6/6), 1.14 MiB | 3.48 MiB/s, done.\n",
            "From https://github.com/ManteshE/handwritten-digit-recognition\n",
            "   06634f2..18ebd6e  main       -> origin/main\n",
            "Updating 06634f2..18ebd6e\n",
            "Fast-forward\n",
            " load_model.ipynb   |  54 \u001b[32m++++++++\u001b[m\u001b[31m----------------------------------------------\u001b[m\n",
            " tf-cnn-model.keras | Bin \u001b[31m0\u001b[m -> \u001b[32m1342825\u001b[m bytes\n",
            " 2 files changed, 8 insertions(+), 46 deletions(-)\n",
            " create mode 100644 tf-cnn-model.keras\n"
          ]
        }
      ]
    },
    {
      "cell_type": "markdown",
      "source": [
        "# Install Dependencies"
      ],
      "metadata": {
        "id": "D-3Ph6-DhYR8"
      }
    },
    {
      "cell_type": "code",
      "source": [
        "!python -m pip install -r requirements.txt"
      ],
      "metadata": {
        "id": "EMw4EppwoX4z"
      },
      "execution_count": null,
      "outputs": []
    },
    {
      "cell_type": "markdown",
      "source": [
        "# Execute Example Using Pre-trained Model"
      ],
      "metadata": {
        "id": "ToSdfoJghrej"
      }
    },
    {
      "cell_type": "code",
      "source": [
        "!python load_model.py /content/handwritten-digit-recognition/assets/images/1a.jpg"
      ],
      "metadata": {
        "id": "W3zpQ4r7pEF-"
      },
      "execution_count": null,
      "outputs": []
    },
    {
      "cell_type": "markdown",
      "source": [
        "# Train Model"
      ],
      "metadata": {
        "id": "I9-PD1u9iECX"
      }
    },
    {
      "cell_type": "code",
      "source": [
        "!python tf_cnn.py"
      ],
      "metadata": {
        "id": "HWo7wF8Hs2wg"
      },
      "execution_count": null,
      "outputs": []
    },
    {
      "cell_type": "code",
      "source": [
        "!jupyter nbconvert --to script load_model.ipynb --output load_model.py\n"
      ],
      "metadata": {
        "id": "F9OlKNgyzEIy",
        "outputId": "33042701-40d6-45b2-e30f-2f64cd553310",
        "colab": {
          "base_uri": "https://localhost:8080/"
        }
      },
      "execution_count": 24,
      "outputs": [
        {
          "output_type": "stream",
          "name": "stdout",
          "text": [
            "[NbConvertApp] Converting notebook load_model.ipynb to script\n",
            "[NbConvertApp] Writing 2818 bytes to load_model.py.txt\n"
          ]
        }
      ]
    }
  ]
}