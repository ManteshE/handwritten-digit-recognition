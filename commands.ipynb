{
  "nbformat": 4,
  "nbformat_minor": 0,
  "metadata": {
    "colab": {
      "provenance": [],
      "authorship_tag": "ABX9TyMsk03ifbGsKbCCV5iCC3+9",
      "include_colab_link": true
    },
    "kernelspec": {
      "name": "python3",
      "display_name": "Python 3"
    },
    "language_info": {
      "name": "python"
    }
  },
  "cells": [
    {
      "cell_type": "markdown",
      "metadata": {
        "id": "view-in-github",
        "colab_type": "text"
      },
      "source": [
        "<a href=\"https://colab.research.google.com/github/ManteshE/handwritten-digit-recognition/blob/main/commands.ipynb\" target=\"_parent\"><img src=\"https://colab.research.google.com/assets/colab-badge.svg\" alt=\"Open In Colab\"/></a>"
      ]
    },
    {
      "cell_type": "markdown",
      "source": [
        "# Clone Repo"
      ],
      "metadata": {
        "id": "czRUQCGnhPUN"
      }
    },
    {
      "cell_type": "code",
      "source": [
        "!git clone https://github.com/ManteshE/handwritten-digit-recognition.git\n",
        "\n",
        "%cd handwritten-digit-recognition\n",
        "\n",
        "!git config --global user.name \"Mantesh Eksambe\"\n",
        "!git config --global user.email \"mantesh.eksambe.cse@gmail.com\""
      ],
      "metadata": {
        "id": "5-tu9FyqhUV9"
      },
      "execution_count": null,
      "outputs": []
    },
    {
      "cell_type": "code",
      "source": [
        "%cd /content/handwritten-digit-recognition\n",
        "\n",
        "!git pull"
      ],
      "metadata": {
        "id": "HgMJlRQdnoRA"
      },
      "execution_count": null,
      "outputs": []
    },
    {
      "cell_type": "markdown",
      "source": [
        "# Install Dependencies"
      ],
      "metadata": {
        "id": "D-3Ph6-DhYR8"
      }
    },
    {
      "cell_type": "code",
      "source": [
        "!python -m pip install -r requirements.txt"
      ],
      "metadata": {
        "id": "EMw4EppwoX4z"
      },
      "execution_count": null,
      "outputs": []
    },
    {
      "cell_type": "markdown",
      "source": [
        "# Execute Example Using Pre-trained Model"
      ],
      "metadata": {
        "id": "ToSdfoJghrej"
      }
    },
    {
      "cell_type": "code",
      "source": [
        "!python load_model.py /content/handwritten-digit-recognition/assets/images/1a.jpg"
      ],
      "metadata": {
        "id": "W3zpQ4r7pEF-"
      },
      "execution_count": null,
      "outputs": []
    },
    {
      "cell_type": "markdown",
      "source": [
        "# Train Model"
      ],
      "metadata": {
        "id": "I9-PD1u9iECX"
      }
    },
    {
      "cell_type": "code",
      "source": [
        "!python tf_cnn.py"
      ],
      "metadata": {
        "id": "HWo7wF8Hs2wg"
      },
      "execution_count": null,
      "outputs": []
    }
  ]
}