{
  "nbformat": 4,
  "nbformat_minor": 0,
  "metadata": {
    "colab": {
      "provenance": [],
      "mount_file_id": "1x31zZ3NIAVDJ-nPmanJTjZdQvWSoHr5_",
      "authorship_tag": "ABX9TyN1sKo8+vpaOC5Q9ugU+MA5"
    },
    "kernelspec": {
      "name": "python3",
      "display_name": "Python 3"
    },
    "language_info": {
      "name": "python"
    }
  },
  "cells": [
    {
      "cell_type": "markdown",
      "source": [
        "# Clone Repo"
      ],
      "metadata": {
        "id": "OoMxB4xQi8BQ"
      }
    },
    {
      "cell_type": "code",
      "source": [
        "!git clone https://github.com/ManteshE/handwritten-digit-recognition.git\n",
        "\n",
        "%cd handwritten-digit-recognition\n",
        "\n",
        "!git config --global user.name \"Mantesh Eksambe\"\n",
        "!git config --global user.email \"mantesh.eksambe.cse@gmail.com\""
      ],
      "metadata": {
        "colab": {
          "base_uri": "https://localhost:8080/"
        },
        "id": "w5wsbXOR94kA",
        "outputId": "9502981e-4f3b-469e-a7f8-d3aa09895853"
      },
      "execution_count": 4,
      "outputs": [
        {
          "output_type": "stream",
          "name": "stdout",
          "text": [
            "Cloning into 'handwritten-digit-recognition'...\n",
            "remote: Enumerating objects: 115, done.\u001b[K\n",
            "remote: Counting objects: 100% (115/115), done.\u001b[K\n",
            "remote: Compressing objects: 100% (105/105), done.\u001b[K\n",
            "remote: Total 115 (delta 33), reused 67 (delta 6), pack-reused 0 (from 0)\u001b[K\n",
            "Receiving objects: 100% (115/115), 1.31 MiB | 7.79 MiB/s, done.\n",
            "Resolving deltas: 100% (33/33), done.\n",
            "/content/handwritten-digit-recognition\n"
          ]
        }
      ]
    },
    {
      "cell_type": "markdown",
      "source": [
        "# Execute Example Using Pre-trained Model"
      ],
      "metadata": {
        "id": "_1heYyawjBxl"
      }
    },
    {
      "cell_type": "code",
      "execution_count": 9,
      "metadata": {
        "colab": {
          "base_uri": "https://localhost:8080/",
          "height": 572
        },
        "id": "8R4OtWgdoIro",
        "outputId": "c9e1594b-c834-4a81-b2e8-bed0d23ea532"
      },
      "outputs": [
        {
          "output_type": "stream",
          "name": "stderr",
          "text": [
            "WARNING:root:No valid image path provided. Using default image path.\n",
            "WARNING:absl:Compiled the loaded model, but the compiled metrics have yet to be built. `model.compile_metrics` will be empty until you train or evaluate the model.\n"
          ]
        },
        {
          "output_type": "stream",
          "name": "stdout",
          "text": [
            "Resolved Model Path: /content/handwritten-digit-recognition/tf-cnn-model.h5\n",
            "Resolved Image Path: /content/handwritten-digit-recognition/assets/images/1a.jpg\n"
          ]
        },
        {
          "output_type": "stream",
          "name": "stderr",
          "text": [
            "WARNING:tensorflow:5 out of the last 5 calls to <function TensorFlowTrainer.make_predict_function.<locals>.one_step_on_data_distributed at 0x7c8c58c25e40> triggered tf.function retracing. Tracing is expensive and the excessive number of tracings could be due to (1) creating @tf.function repeatedly in a loop, (2) passing tensors with different shapes, (3) passing Python objects instead of tensors. For (1), please define your @tf.function outside of the loop. For (2), @tf.function has reduce_retracing=True option that can avoid unnecessary retracing. For (3), please refer to https://www.tensorflow.org/guide/function#controlling_retracing and https://www.tensorflow.org/api_docs/python/tf/function for  more details.\n"
          ]
        },
        {
          "output_type": "stream",
          "name": "stdout",
          "text": [
            "\u001b[1m1/1\u001b[0m \u001b[32m━━━━━━━━━━━━━━━━━━━━\u001b[0m\u001b[37m\u001b[0m \u001b[1m0s\u001b[0m 114ms/step\n",
            "Predicted Digit: 1\n"
          ]
        },
        {
          "output_type": "display_data",
          "data": {
            "text/plain": [
              "<Figure size 640x480 with 1 Axes>"
            ],
            "image/png": "[encoded data removed]"
          },
          "metadata": {}
        }
      ],
      "source": [
        "import os\n",
        "import cv2\n",
        "import sys\n",
        "import numpy as np\n",
        "import logging\n",
        "from tensorflow.keras import models\n",
        "import argparse\n",
        "import matplotlib.pyplot as plt\n",
        "\n",
        "# Configure logging\n",
        "logging.basicConfig(\n",
        "    level=logging.DEBUG,\n",
        "    format=\"%(asctime)s - %(levelname)s - %(message)s\",\n",
        ")\n",
        "\n",
        "# Set paths relative to the notebook's working directory\n",
        "MODEL_PATH = \"tf-cnn-model.h5\"\n",
        "DEFAULT_IMAGE_PATH = \"assets/images/1a.jpg\"\n",
        "\n",
        "# Ensure the paths are correct\n",
        "MODEL_PATH =  os.path.abspath(MODEL_PATH) # \"/content/handwritten-digit-recognition/tf-cnn-model.h5\"\n",
        "DEFAULT_IMAGE_PATH = os.path.abspath(DEFAULT_IMAGE_PATH) # \"/content/handwritten-digit-recognition/assets/images/1a.jpg\"\n",
        "\n",
        "def predict_digit(image_path):\n",
        "    try:\n",
        "        logging.debug(\"Loading model from: %s\", MODEL_PATH)\n",
        "        model = models.load_model(MODEL_PATH)\n",
        "        logging.info(\"Model loaded successfully.\")\n",
        "    except Exception as e:\n",
        "        logging.error(\"Failed to load model: %s\", e)\n",
        "        raise\n",
        "\n",
        "    try:\n",
        "        logging.debug(\"Loading image from: %s\", image_path)\n",
        "        image = cv2.imread(image_path, 0)  # Read as grayscale\n",
        "        if image is None:\n",
        "            raise FileNotFoundError(\"Image could not be loaded. Check the file path.\")\n",
        "\n",
        "        logging.info(\"Image loaded successfully. Shape: %s\", image.shape)\n",
        "        image_resized = cv2.resize(image, (28, 28))\n",
        "        image_reshaped = image_resized.reshape(1, 28, 28, 1)\n",
        "        pred = np.argmax(model.predict(image_reshaped), axis=-1)\n",
        "        logging.info(\"Prediction successful. Predicted digit: %s\", pred[0])\n",
        "        plt.imshow(image_resized)\n",
        "        return pred[0]\n",
        "    except Exception as e:\n",
        "        logging.error(\"Error during prediction: %s\", e)\n",
        "        raise\n",
        "\n",
        "def main(image_path):\n",
        "    \"\"\"\n",
        "    Main function to predict the digit in the image provided via CLI.\n",
        "    \"\"\"\n",
        "    logging.debug(\"Starting main function with image_path: %s\", image_path)\n",
        "    try:\n",
        "        predicted_digit = predict_digit(image_path)\n",
        "        logging.info(\"Predicted Digit: %s\", predicted_digit)\n",
        "        print(\"Predicted Digit: {}\".format(predicted_digit))\n",
        "    except FileNotFoundError:\n",
        "        logging.error(\"[ERROR]: Image not found at %s\", image_path)\n",
        "        print(\"[ERROR]: Image not found.\")\n",
        "    except Exception as e:\n",
        "        logging.error(\"[ERROR]: Unexpected error: %s\", e)\n",
        "        print(\"[ERROR]: Unexpected error occurred. Check logs for details.\")\n",
        "\n",
        "if __name__ == \"__main__\":\n",
        "    print(\"Resolved Model Path:\", MODEL_PATH)\n",
        "    print(\"Resolved Image Path:\", DEFAULT_IMAGE_PATH)\n",
        "\n",
        "    try:\n",
        "        if len(sys.argv) < 2 or not os.path.isfile(sys.argv[1]):\n",
        "            logging.warning(\"No valid image path provided. Using default image path.\")\n",
        "            main(DEFAULT_IMAGE_PATH)\n",
        "        else:\n",
        "            main(sys.argv[1])\n",
        "    except Exception as e:\n",
        "        logging.error(\"Script terminated due to an error: %s\", e)"
      ]
    }
  ]
}