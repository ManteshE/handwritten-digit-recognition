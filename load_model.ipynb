{
  "nbformat": 4,
  "nbformat_minor": 0,
  "metadata": {
    "colab": {
      "provenance": [],
      "mount_file_id": "1x31zZ3NIAVDJ-nPmanJTjZdQvWSoHr5_",
      "authorship_tag": "ABX9TyP6YqT3U0xmPaKY2EoE1O6Z"
    },
    "kernelspec": {
      "name": "python3",
      "display_name": "Python 3"
    },
    "language_info": {
      "name": "python"
    }
  },
  "cells": [
    {
      "cell_type": "code",
      "execution_count": null,
      "metadata": {
        "colab": {
          "base_uri": "https://localhost:8080/",
          "height": 211
        },
        "id": "8R4OtWgdoIro",
        "outputId": "4b676067-59bd-4c16-9fe6-02e633197662"
      },
      "outputs": [
        {
          "output_type": "error",
          "ename": "NameError",
          "evalue": "name '__file__' is not defined",
          "traceback": [
            "\u001b[0;31m---------------------------------------------------------------------------\u001b[0m",
            "\u001b[0;31mNameError\u001b[0m                                 Traceback (most recent call last)",
            "\u001b[0;32m<ipython-input-22-cc71bf02e94f>\u001b[0m in \u001b[0;36m<cell line: 0>\u001b[0;34m()\u001b[0m\n\u001b[1;32m     14\u001b[0m \u001b[0;34m\u001b[0m\u001b[0m\n\u001b[1;32m     15\u001b[0m \u001b[0;31m# Paths\u001b[0m\u001b[0;34m\u001b[0m\u001b[0;34m\u001b[0m\u001b[0m\n\u001b[0;32m---> 16\u001b[0;31m \u001b[0mBASE_DIR\u001b[0m \u001b[0;34m=\u001b[0m \u001b[0mos\u001b[0m\u001b[0;34m.\u001b[0m\u001b[0mpath\u001b[0m\u001b[0;34m.\u001b[0m\u001b[0mabspath\u001b[0m\u001b[0;34m(\u001b[0m\u001b[0mos\u001b[0m\u001b[0;34m.\u001b[0m\u001b[0mpath\u001b[0m\u001b[0;34m.\u001b[0m\u001b[0mdirname\u001b[0m\u001b[0;34m(\u001b[0m\u001b[0m__file__\u001b[0m\u001b[0;34m)\u001b[0m\u001b[0;34m)\u001b[0m  \u001b[0;31m# Current script directory\u001b[0m\u001b[0;34m\u001b[0m\u001b[0;34m\u001b[0m\u001b[0m\n\u001b[0m\u001b[1;32m     17\u001b[0m \u001b[0mMODEL_PATH\u001b[0m \u001b[0;34m=\u001b[0m \u001b[0mos\u001b[0m\u001b[0;34m.\u001b[0m\u001b[0mpath\u001b[0m\u001b[0;34m.\u001b[0m\u001b[0mjoin\u001b[0m\u001b[0;34m(\u001b[0m\u001b[0mBASE_DIR\u001b[0m\u001b[0;34m,\u001b[0m \u001b[0;34m\"tf-cnn-model.h5\"\u001b[0m\u001b[0;34m)\u001b[0m\u001b[0;34m\u001b[0m\u001b[0;34m\u001b[0m\u001b[0m\n\u001b[1;32m     18\u001b[0m \u001b[0mDEFAULT_IMAGE_PATH\u001b[0m \u001b[0;34m=\u001b[0m \u001b[0mos\u001b[0m\u001b[0;34m.\u001b[0m\u001b[0mpath\u001b[0m\u001b[0;34m.\u001b[0m\u001b[0mjoin\u001b[0m\u001b[0;34m(\u001b[0m\u001b[0mBASE_DIR\u001b[0m\u001b[0;34m,\u001b[0m \u001b[0;34m\"assets/images/1a.jpg\"\u001b[0m\u001b[0;34m)\u001b[0m\u001b[0;34m\u001b[0m\u001b[0;34m\u001b[0m\u001b[0m\n",
            "\u001b[0;31mNameError\u001b[0m: name '__file__' is not defined"
          ]
        }
      ],
      "source": [
        "import os\n",
        "import cv2\n",
        "import sys\n",
        "import numpy as np\n",
        "import logging\n",
        "from tensorflow.keras import models\n",
        "import argparse\n",
        "\n",
        "# Configure logging\n",
        "logging.basicConfig(\n",
        "    level=logging.DEBUG,\n",
        "    format=\"%(asctime)s - %(levelname)s - %(message)s\",\n",
        ")\n",
        "\n",
        "# Paths\n",
        "BASE_DIR = os.path.abspath(os.path.dirname(__file__))  # Current script directory\n",
        "MODEL_PATH = os.path.join(BASE_DIR, \"tf-cnn-model.h5\")\n",
        "DEFAULT_IMAGE_PATH = os.path.join(BASE_DIR, \"assets/images/1a.jpg\")\n",
        "\n",
        "def predict_digit(image_path):\n",
        "    try:\n",
        "        logging.debug(\"Loading model from: %s\", MODEL_PATH)\n",
        "        model = models.load_model(MODEL_PATH)\n",
        "        logging.info(\"Model loaded successfully.\")\n",
        "    except Exception as e:\n",
        "        logging.error(\"Failed to load model: %s\", e)\n",
        "        raise\n",
        "\n",
        "    try:\n",
        "        logging.debug(\"Loading image from: %s\", image_path)\n",
        "        image = cv2.imread(image_path, 0)  # Read as grayscale\n",
        "        if image is None:\n",
        "            raise FileNotFoundError(\"Image could not be loaded. Check the file path.\")\n",
        "\n",
        "        logging.info(\"Image loaded successfully. Shape: %s\", image.shape)\n",
        "        image_resized = cv2.resize(image, (28, 28))\n",
        "        image_reshaped = image_resized.reshape(1, 28, 28, 1)\n",
        "        pred = np.argmax(model.predict(image_reshaped), axis=-1)\n",
        "        logging.info(\"Prediction successful. Predicted digit: %s\", pred[0])\n",
        "        return pred[0]\n",
        "    except Exception as e:\n",
        "        logging.error(\"Error during prediction: %s\", e)\n",
        "        raise\n",
        "\n",
        "def main():\n",
        "    parser = argparse.ArgumentParser(description=\"Digit Prediction Script\")\n",
        "    parser.add_argument(\n",
        "        \"image_path\",\n",
        "        nargs=\"?\",\n",
        "        default=DEFAULT_IMAGE_PATH,\n",
        "        help=\"Path to the image file (defaults to DEFAULT_IMAGE_PATH)\",\n",
        "    )\n",
        "\n",
        "    args, _ = parser.parse_known_args()\n",
        "    image_path = args.image_path\n",
        "\n",
        "    try:\n",
        "        predicted_digit = predict_digit(image_path)\n",
        "        print(\"Predicted Digit: {}\".format(predicted_digit))\n",
        "    except FileNotFoundError as e:\n",
        "        logging.error(e)\n",
        "        print(\"[ERROR]: Image not found.\")\n",
        "    except Exception as e:\n",
        "        logging.error(\"[ERROR]: Unexpected error: %s\", e)\n",
        "        print(\"[ERROR]: Unexpected error occurred. Check logs for details.\")\n",
        "\n",
        "if __name__ == \"__main__\":\n",
        "    print(\"Resolved Model Path:\", MODEL_PATH)\n",
        "    print(\"Resolved Image Path:\", DEFAULT_IMAGE_PATH)\n",
        "    main()"
      ]
    },
    {
      "cell_type": "code",
      "source": [
        "import os\n",
        "\n",
        "# Set paths relative to the notebook's working directory\n",
        "MODEL_PATH = \"tf-cnn-model.h5\"\n",
        "DEFAULT_IMAGE_PATH = \"assets/images/1a.jpg\"\n",
        "\n",
        "# Ensure the paths are correct\n",
        "MODEL_PATH = os.path.abspath(MODEL_PATH)\n",
        "DEFAULT_IMAGE_PATH = os.path.abspath(DEFAULT_IMAGE_PATH)\n",
        "\n",
        "print(\"Resolved Model Path:\", MODEL_PATH)\n",
        "print(\"Resolved Image Path:\", DEFAULT_IMAGE_PATH)\n"
      ],
      "metadata": {
        "id": "1EPYk_E8y06K",
        "outputId": "e82a8bda-8646-4544-9b9b-db13b4964a2b",
        "colab": {
          "base_uri": "https://localhost:8080/"
        }
      },
      "execution_count": null,
      "outputs": [
        {
          "output_type": "stream",
          "name": "stdout",
          "text": [
            "Resolved Model Path: /content/tf-cnn-model.h5\n",
            "Resolved Image Path: /content/assets/images/1a.jpg\n"
          ]
        }
      ]
    }
  ]
}