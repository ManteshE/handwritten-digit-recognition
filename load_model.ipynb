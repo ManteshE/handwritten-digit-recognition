{
  "nbformat": 4,
  "nbformat_minor": 0,
  "metadata": {
    "colab": {
      "provenance": [],
      "mount_file_id": "1x31zZ3NIAVDJ-nPmanJTjZdQvWSoHr5_",
      "authorship_tag": "ABX9TyNmmsKzGKTKLkBFeeg2C9H2"
    },
    "kernelspec": {
      "name": "python3",
      "display_name": "Python 3"
    },
    "language_info": {
      "name": "python"
    }
  },
  "cells": [
    {
      "cell_type": "code",
      "source": [
        "!git clone https://github.com/ManteshE/handwritten-digit-recognition.git\n",
        "\n",
        "%cd handwritten-digit-recognition\n",
        "\n",
        "!git config --global user.name \"Mantesh Eksambe\"\n",
        "!git config --global user.email \"mantesh.eksambe.cse@gmail.com\""
      ],
      "metadata": {
        "colab": {
          "base_uri": "https://localhost:8080/"
        },
        "id": "w5wsbXOR94kA",
        "outputId": "3a1c9c45-1863-477f-c0f0-5540bc61ac65"
      },
      "execution_count": 1,
      "outputs": [
        {
          "output_type": "stream",
          "name": "stdout",
          "text": [
            "Cloning into 'handwritten-digit-recognition'...\n",
            "remote: Enumerating objects: 97, done.\u001b[K\n",
            "remote: Counting objects: 100% (97/97), done.\u001b[K\n",
            "remote: Compressing objects: 100% (87/87), done.\u001b[K\n",
            "remote: Total 97 (delta 22), reused 67 (delta 6), pack-reused 0 (from 0)\u001b[K\n",
            "Receiving objects: 100% (97/97), 1.30 MiB | 8.56 MiB/s, done.\n",
            "Resolving deltas: 100% (22/22), done.\n",
            "/content/handwritten-digit-recognition\n"
          ]
        }
      ]
    },
    {
      "cell_type": "code",
      "execution_count": 15,
      "metadata": {
        "colab": {
          "base_uri": "https://localhost:8080/"
        },
        "id": "8R4OtWgdoIro",
        "outputId": "1c6cf29b-5585-4b15-83ed-f0cf72d36eba"
      },
      "outputs": [
        {
          "output_type": "stream",
          "name": "stderr",
          "text": [
            "WARNING:root:No valid image path provided. Using default image path.\n",
            "WARNING:absl:Compiled the loaded model, but the compiled metrics have yet to be built. `model.compile_metrics` will be empty until you train or evaluate the model.\n"
          ]
        },
        {
          "output_type": "stream",
          "name": "stdout",
          "text": [
            "Resolved Model Path: /content/handwritten-digit-recognition/tf-cnn-model.h5\n",
            "Resolved Image Path: /content/handwritten-digit-recognition/assets/images/1a.jpg\n",
            "\u001b[1m1/1\u001b[0m \u001b[32m━━━━━━━━━━━━━━━━━━━━\u001b[0m\u001b[37m\u001b[0m \u001b[1m0s\u001b[0m 102ms/step\n",
            "Predicted Digit: 1\n"
          ]
        }
      ],
      "source": [
        "import os\n",
        "import cv2\n",
        "import sys\n",
        "import numpy as np\n",
        "import logging\n",
        "from tensorflow.keras import models\n",
        "import argparse\n",
        "\n",
        "# Configure logging\n",
        "logging.basicConfig(\n",
        "    level=logging.DEBUG,\n",
        "    format=\"%(asctime)s - %(levelname)s - %(message)s\",\n",
        ")\n",
        "\n",
        "# Set paths relative to the notebook's working directory\n",
        "MODEL_PATH = \"tf-cnn-model.h5\"\n",
        "DEFAULT_IMAGE_PATH = \"assets/images/1a.jpg\"\n",
        "\n",
        "# Ensure the paths are correct\n",
        "MODEL_PATH =  os.path.abspath(MODEL_PATH) # \"/content/handwritten-digit-recognition/tf-cnn-model.h5\"\n",
        "DEFAULT_IMAGE_PATH = os.path.abspath(DEFAULT_IMAGE_PATH) # \"/content/handwritten-digit-recognition/assets/images/1a.jpg\"\n",
        "\n",
        "def predict_digit(image_path):\n",
        "    try:\n",
        "        logging.debug(\"Loading model from: %s\", MODEL_PATH)\n",
        "        model = models.load_model(MODEL_PATH)\n",
        "        logging.info(\"Model loaded successfully.\")\n",
        "    except Exception as e:\n",
        "        logging.error(\"Failed to load model: %s\", e)\n",
        "        raise\n",
        "\n",
        "    try:\n",
        "        logging.debug(\"Loading image from: %s\", image_path)\n",
        "        image = cv2.imread(image_path, 0)  # Read as grayscale\n",
        "        if image is None:\n",
        "            raise FileNotFoundError(\"Image could not be loaded. Check the file path.\")\n",
        "\n",
        "        logging.info(\"Image loaded successfully. Shape: %s\", image.shape)\n",
        "        image_resized = cv2.resize(image, (28, 28))\n",
        "        image_reshaped = image_resized.reshape(1, 28, 28, 1)\n",
        "        pred = np.argmax(model.predict(image_reshaped), axis=-1)\n",
        "        logging.info(\"Prediction successful. Predicted digit: %s\", pred[0])\n",
        "        return pred[0]\n",
        "    except Exception as e:\n",
        "        logging.error(\"Error during prediction: %s\", e)\n",
        "        raise\n",
        "\n",
        "def main(image_path):\n",
        "    \"\"\"\n",
        "    Main function to predict the digit in the image provided via CLI.\n",
        "    \"\"\"\n",
        "    logging.debug(\"Starting main function with image_path: %s\", image_path)\n",
        "    try:\n",
        "        predicted_digit = predict_digit(image_path)\n",
        "        logging.info(\"Predicted Digit: %s\", predicted_digit)\n",
        "        print(\"Predicted Digit: {}\".format(predicted_digit))\n",
        "    except FileNotFoundError:\n",
        "        logging.error(\"[ERROR]: Image not found at %s\", image_path)\n",
        "        print(\"[ERROR]: Image not found.\")\n",
        "    except Exception as e:\n",
        "        logging.error(\"[ERROR]: Unexpected error: %s\", e)\n",
        "        print(\"[ERROR]: Unexpected error occurred. Check logs for details.\")\n",
        "\n",
        "if __name__ == \"__main__\":\n",
        "    print(\"Resolved Model Path:\", MODEL_PATH)\n",
        "    print(\"Resolved Image Path:\", DEFAULT_IMAGE_PATH)\n",
        "\n",
        "    try:\n",
        "        if len(sys.argv) < 2 or not os.path.isfile(sys.argv[1]):\n",
        "            logging.warning(\"No valid image path provided. Using default image path.\")\n",
        "            main(DEFAULT_IMAGE_PATH)\n",
        "        else:\n",
        "            main(sys.argv[1])\n",
        "    except Exception as e:\n",
        "        logging.error(\"Script terminated due to an error: %s\", e)"
      ]
    }
  ]
}