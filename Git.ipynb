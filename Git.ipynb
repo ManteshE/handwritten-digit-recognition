{
  "nbformat": 4,
  "nbformat_minor": 0,
  "metadata": {
    "colab": {
      "provenance": [],
      "authorship_tag": "ABX9TyPTwOc7GlnjxRZDIqLt9y60",
      "include_colab_link": true
    },
    "kernelspec": {
      "name": "python3",
      "display_name": "Python 3"
    },
    "language_info": {
      "name": "python"
    }
  },
  "cells": [
    {
      "cell_type": "markdown",
      "metadata": {
        "id": "view-in-github",
        "colab_type": "text"
      },
      "source": [
        "<a href=\"https://colab.research.google.com/github/ManteshE/handwritten-digit-recognition/blob/main/Git.ipynb\" target=\"_parent\"><img src=\"https://colab.research.google.com/assets/colab-badge.svg\" alt=\"Open In Colab\"/></a>"
      ]
    },
    {
      "cell_type": "code",
      "execution_count": null,
      "metadata": {
        "id": "HQlDsMBBOXs_"
      },
      "outputs": [],
      "source": [
        "!git clone https://github.com/ManteshE/handwritten-digit-recognition.git"
      ]
    },
    {
      "cell_type": "code",
      "source": [
        "%cd handwritten-digit-recognition\n",
        "\n",
        "!git config --global user.name \"Mantesh Eksambe\"\n",
        "!git config --global user.email \"mantesh.eksambe.cse@gmail.com\"\n",
        "\n"
      ],
      "metadata": {
        "id": "J2GrSMMbQnMY"
      },
      "execution_count": null,
      "outputs": []
    },
    {
      "cell_type": "code",
      "source": [
        "!git add ."
      ],
      "metadata": {
        "id": "a1Zxc42tQ2_g"
      },
      "execution_count": null,
      "outputs": []
    },
    {
      "cell_type": "code",
      "source": [
        "!git commit -m \"Deleted git.ipynb\""
      ],
      "metadata": {
        "id": "GkBkeBGkQ90f"
      },
      "execution_count": null,
      "outputs": []
    }
  ]
}